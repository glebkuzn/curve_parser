{
 "cells": [
  {
   "cell_type": "code",
   "execution_count": 6,
   "metadata": {},
   "outputs": [],
   "source": [
    "from src.utils import get_points\n",
    "import plotly.express as px\n",
    "import seaborn as sns"
   ]
  },
  {
   "cell_type": "code",
   "execution_count": 7,
   "metadata": {},
   "outputs": [],
   "source": [
    "df=get_points('img/1_1.png',\n",
    "                          x_col_name=\"T, K\",\n",
    "                          y_col_name=\"R, Ω\",\n",
    "                           x_min_value=0, \n",
    "                           x_max_value=300, \n",
    "                           y_min_value=0, \n",
    "                           y_max_value=80\n",
    "                           )"
   ]
  },
  {
   "cell_type": "code",
   "execution_count": 8,
   "metadata": {},
   "outputs": [],
   "source": [
    "df.to_csv('./data/graph2.csv', sep=';', index=False)"
   ]
  },
  {
   "cell_type": "code",
   "execution_count": 9,
   "metadata": {
    "pycharm": {
     "name": "#%%\n"
    }
   },
   "outputs": [
    {
     "data": {
      "application/vnd.plotly.v1+json": {
       "config": {
        "plotlyServerURL": "https://plot.ly"
       },
       "data": [
        {
         "hovertemplate": "T, K=%{x}<br>R, Ω=%{y}<extra></extra>",
         "legendgroup": "",
         "line": {
          "color": "#636efa",
          "dash": "solid"
         },
         "marker": {
          "symbol": "circle"
         },
         "mode": "lines",
         "name": "",
         "orientation": "v",
         "showlegend": false,
         "type": "scatter",
         "x": [
          0,
          1.1904761904761905,
          2.380952380952381,
          3.5714285714285716,
          4.761904761904762,
          5.9523809523809526,
          7.142857142857143,
          8.333333333333334,
          9.523809523809524,
          10.714285714285715,
          11.904761904761905,
          13.095238095238095,
          14.285714285714286,
          15.476190476190476,
          16.666666666666668,
          17.857142857142858,
          19.047619047619047,
          20.238095238095237,
          21.42857142857143,
          22.61904761904762,
          23.80952380952381,
          25,
          26.19047619047619,
          27.380952380952383,
          28.571428571428573,
          29.761904761904763,
          30.952380952380953,
          32.142857142857146,
          33.333333333333336,
          34.523809523809526,
          35.714285714285715,
          36.904761904761905,
          38.095238095238095,
          39.285714285714285,
          40.476190476190474,
          41.66666666666667,
          42.85714285714286,
          44.04761904761905,
          45.23809523809524,
          46.42857142857143,
          47.61904761904762,
          48.80952380952381,
          50,
          51.19047619047619,
          52.38095238095238,
          53.57142857142858,
          54.761904761904766,
          55.952380952380956,
          57.142857142857146,
          58.333333333333336,
          59.523809523809526,
          60.714285714285715,
          61.904761904761905,
          63.095238095238095,
          64.28571428571429,
          65.47619047619048,
          66.66666666666667,
          67.85714285714286,
          69.04761904761905,
          70.23809523809524,
          71.42857142857143,
          72.61904761904762,
          73.80952380952381,
          75,
          76.19047619047619,
          77.38095238095238,
          78.57142857142857,
          79.76190476190476,
          80.95238095238095,
          82.14285714285714,
          83.33333333333334,
          84.52380952380953,
          85.71428571428572,
          86.90476190476191,
          88.0952380952381,
          89.28571428571429,
          90.47619047619048,
          91.66666666666667,
          92.85714285714286,
          94.04761904761905,
          95.23809523809524,
          96.42857142857143,
          97.61904761904762,
          98.80952380952381,
          100,
          101.19047619047619,
          102.38095238095238,
          103.57142857142857,
          104.76190476190476,
          105.95238095238096,
          107.14285714285715,
          108.33333333333334,
          109.52380952380953,
          110.71428571428572,
          111.90476190476191,
          113.0952380952381,
          114.28571428571429,
          115.47619047619048,
          116.66666666666667,
          117.85714285714286,
          119.04761904761905,
          120.23809523809524,
          121.42857142857143,
          122.61904761904762,
          123.80952380952381,
          125,
          126.19047619047619,
          127.38095238095238,
          128.57142857142858,
          129.76190476190476,
          130.95238095238096,
          132.14285714285714,
          133.33333333333334,
          134.52380952380952,
          135.71428571428572,
          136.9047619047619,
          138.0952380952381,
          139.28571428571428,
          140.47619047619048,
          141.66666666666669,
          142.85714285714286,
          144.04761904761907,
          145.23809523809524,
          146.42857142857144,
          147.61904761904762,
          148.80952380952382,
          150,
          151.1904761904762,
          152.38095238095238,
          153.57142857142858,
          154.76190476190476,
          155.95238095238096,
          157.14285714285714,
          158.33333333333334,
          159.52380952380952,
          160.71428571428572,
          161.9047619047619,
          163.0952380952381,
          164.28571428571428,
          165.47619047619048,
          166.66666666666669,
          167.85714285714286,
          169.04761904761907,
          170.23809523809524,
          171.42857142857144,
          172.61904761904762,
          173.80952380952382,
          175,
          176.1904761904762,
          177.38095238095238,
          178.57142857142858,
          179.76190476190476,
          180.95238095238096,
          182.14285714285714,
          183.33333333333334,
          184.52380952380952,
          185.71428571428572,
          186.9047619047619,
          188.0952380952381,
          189.2857142857143,
          190.47619047619048,
          191.66666666666669,
          192.85714285714286,
          194.04761904761907,
          195.23809523809524,
          196.42857142857144,
          197.61904761904762,
          198.80952380952382,
          200,
          201.1904761904762,
          202.38095238095238,
          203.57142857142858,
          204.76190476190476,
          205.95238095238096,
          207.14285714285714,
          208.33333333333334,
          209.52380952380952,
          210.71428571428572,
          211.90476190476193,
          213.0952380952381,
          214.2857142857143,
          215.47619047619048,
          216.66666666666669,
          217.85714285714286,
          219.04761904761907,
          220.23809523809524,
          221.42857142857144,
          222.61904761904762,
          223.80952380952382,
          225,
          226.1904761904762,
          227.38095238095238,
          228.57142857142858,
          229.76190476190476,
          230.95238095238096,
          232.14285714285714,
          233.33333333333334,
          234.52380952380952,
          235.71428571428572,
          236.90476190476193,
          238.0952380952381,
          239.2857142857143,
          240.47619047619048,
          241.66666666666669,
          242.85714285714286,
          244.04761904761907,
          245.23809523809524,
          246.42857142857144,
          247.61904761904762,
          248.80952380952382,
          250,
          251.1904761904762,
          252.38095238095238,
          253.57142857142858,
          254.76190476190476,
          255.95238095238096,
          257.14285714285717,
          258.33333333333337,
          259.5238095238095,
          260.7142857142857,
          261.9047619047619,
          263.09523809523813,
          264.2857142857143,
          265.4761904761905,
          266.6666666666667,
          267.8571428571429,
          269.04761904761904,
          270.23809523809524,
          271.42857142857144,
          272.61904761904765,
          273.8095238095238,
          275,
          276.1904761904762,
          277.3809523809524,
          278.57142857142856,
          279.76190476190476,
          280.95238095238096,
          282.14285714285717,
          283.33333333333337,
          284.5238095238095,
          285.7142857142857,
          286.9047619047619,
          288.09523809523813,
          289.2857142857143,
          290.4761904761905,
          291.6666666666667,
          292.8571428571429,
          294.04761904761904,
          295.23809523809524,
          296.42857142857144,
          297.61904761904765,
          298.8095238095238
         ],
         "xaxis": "x",
         "y": [
          3.9215686274509807,
          7.450980392156863,
          9.019607843137255,
          9.411764705882353,
          10.19607843137255,
          9.803921568627452,
          9.803921568627452,
          10.588235294117649,
          10.588235294117649,
          10.588235294117649,
          10.588235294117649,
          10.19607843137255,
          10.588235294117649,
          10.980392156862745,
          10.980392156862745,
          11.372549019607844,
          11.372549019607844,
          11.764705882352942,
          11.764705882352942,
          11.764705882352942,
          11.764705882352942,
          12.15686274509804,
          12.549019607843139,
          12.941176470588236,
          12.941176470588236,
          12.941176470588236,
          13.333333333333334,
          13.333333333333334,
          14.11764705882353,
          13.725490196078432,
          14.11764705882353,
          14.50980392156863,
          14.901960784313726,
          14.901960784313726,
          15.686274509803923,
          15.294117647058824,
          16.07843137254902,
          16.47058823529412,
          16.07843137254902,
          16.862745098039216,
          17.254901960784316,
          16.862745098039216,
          17.254901960784316,
          17.647058823529413,
          18.03921568627451,
          18.03921568627451,
          18.823529411764707,
          18.43137254901961,
          19.215686274509807,
          19.607843137254903,
          19.215686274509807,
          19.607843137254903,
          20,
          20,
          20.3921568627451,
          20.784313725490197,
          21.176470588235297,
          21.568627450980394,
          21.568627450980394,
          21.568627450980394,
          22.35294117647059,
          22.35294117647059,
          22.35294117647059,
          23.137254901960787,
          22.745098039215687,
          23.137254901960787,
          23.529411764705884,
          23.529411764705884,
          23.92156862745098,
          24.705882352941178,
          24.31372549019608,
          25.098039215686278,
          25.098039215686278,
          25.098039215686278,
          25.88235294117647,
          25.88235294117647,
          26.27450980392157,
          26.666666666666668,
          27.058823529411768,
          27.450980392156865,
          27.058823529411768,
          27.450980392156865,
          27.84313725490196,
          27.84313725490196,
          28.627450980392158,
          28.23529411764706,
          28.627450980392158,
          29.411764705882355,
          29.01960784313726,
          29.80392156862745,
          30.196078431372552,
          29.80392156862745,
          30.196078431372552,
          30.196078431372552,
          30.58823529411765,
          31.372549019607845,
          31.764705882352942,
          31.372549019607845,
          31.764705882352942,
          32.15686274509804,
          32.15686274509804,
          32.54901960784314,
          33.333333333333336,
          32.94117647058824,
          33.72549019607843,
          33.72549019607843,
          33.72549019607843,
          34.50980392156863,
          34.50980392156863,
          34.90196078431373,
          35.294117647058826,
          35.294117647058826,
          35.68627450980392,
          35.68627450980392,
          36.47058823529412,
          36.47058823529412,
          36.47058823529412,
          36.86274509803922,
          37.254901960784316,
          37.254901960784316,
          38.03921568627451,
          38.03921568627451,
          38.03921568627451,
          38.03921568627451,
          39.21568627450981,
          38.82352941176471,
          39.6078431372549,
          39.6078431372549,
          40,
          40,
          40.392156862745104,
          40.392156862745104,
          41.1764705882353,
          41.1764705882353,
          41.568627450980394,
          41.568627450980394,
          41.96078431372549,
          41.96078431372549,
          42.74509803921569,
          42.74509803921569,
          42.74509803921569,
          43.13725490196079,
          43.529411764705884,
          43.529411764705884,
          44.313725490196084,
          44.70588235294118,
          44.70588235294118,
          44.70588235294118,
          45.09803921568628,
          45.88235294117647,
          46.274509803921575,
          46.274509803921575,
          46.274509803921575,
          47.05882352941177,
          47.05882352941177,
          47.84313725490196,
          47.450980392156865,
          48.235294117647065,
          48.235294117647065,
          48.62745098039216,
          48.62745098039216,
          49.01960784313726,
          49.01960784313726,
          49.80392156862745,
          50.196078431372555,
          50.196078431372555,
          50.58823529411765,
          50.58823529411765,
          50.98039215686275,
          50.98039215686275,
          51.372549019607845,
          51.372549019607845,
          51.76470588235294,
          52.156862745098046,
          52.54901960784314,
          52.54901960784314,
          52.94117647058824,
          52.94117647058824,
          53.72549019607843,
          53.72549019607843,
          53.72549019607843,
          54.117647058823536,
          54.50980392156863,
          54.90196078431373,
          54.90196078431373,
          55.294117647058826,
          55.68627450980392,
          55.68627450980392,
          56.078431372549026,
          56.47058823529412,
          56.86274509803922,
          57.254901960784316,
          57.254901960784316,
          57.254901960784316,
          58.03921568627452,
          58.03921568627452,
          58.43137254901961,
          58.43137254901961,
          58.82352941176471,
          59.21568627450981,
          59.6078431372549,
          60.00000000000001,
          60.392156862745104,
          60.7843137254902,
          61.1764705882353,
          61.1764705882353,
          61.568627450980394,
          61.9607843137255,
          61.9607843137255,
          62.352941176470594,
          62.74509803921569,
          63.13725490196079,
          63.13725490196079,
          63.92156862745099,
          63.92156862745099,
          64.31372549019608,
          65.09803921568628,
          65.09803921568628,
          65.09803921568628,
          65.49019607843138,
          65.88235294117648,
          66.66666666666667,
          66.66666666666667,
          67.05882352941177,
          67.45098039215686,
          67.84313725490196,
          67.84313725490196,
          67.84313725490196,
          68.23529411764706,
          69.01960784313727,
          69.41176470588236,
          69.41176470588236,
          69.80392156862746,
          69.80392156862746,
          70.19607843137256,
          70.58823529411765,
          70.98039215686275,
          71.76470588235294,
          72.15686274509804,
          72.54901960784314,
          72.54901960784314,
          72.54901960784314,
          72.94117647058825,
          73.72549019607844,
          74.11764705882354,
          74.50980392156863,
          74.50980392156863,
          74.90196078431373,
          74.90196078431373,
          76.07843137254902,
          75.68627450980392,
          75.68627450980392
         ],
         "yaxis": "y"
        }
       ],
       "layout": {
        "legend": {
         "tracegroupgap": 0
        },
        "template": {
         "data": {
          "bar": [
           {
            "error_x": {
             "color": "#2a3f5f"
            },
            "error_y": {
             "color": "#2a3f5f"
            },
            "marker": {
             "line": {
              "color": "#E5ECF6",
              "width": 0.5
             },
             "pattern": {
              "fillmode": "overlay",
              "size": 10,
              "solidity": 0.2
             }
            },
            "type": "bar"
           }
          ],
          "barpolar": [
           {
            "marker": {
             "line": {
              "color": "#E5ECF6",
              "width": 0.5
             },
             "pattern": {
              "fillmode": "overlay",
              "size": 10,
              "solidity": 0.2
             }
            },
            "type": "barpolar"
           }
          ],
          "carpet": [
           {
            "aaxis": {
             "endlinecolor": "#2a3f5f",
             "gridcolor": "white",
             "linecolor": "white",
             "minorgridcolor": "white",
             "startlinecolor": "#2a3f5f"
            },
            "baxis": {
             "endlinecolor": "#2a3f5f",
             "gridcolor": "white",
             "linecolor": "white",
             "minorgridcolor": "white",
             "startlinecolor": "#2a3f5f"
            },
            "type": "carpet"
           }
          ],
          "choropleth": [
           {
            "colorbar": {
             "outlinewidth": 0,
             "ticks": ""
            },
            "type": "choropleth"
           }
          ],
          "contour": [
           {
            "colorbar": {
             "outlinewidth": 0,
             "ticks": ""
            },
            "colorscale": [
             [
              0,
              "#0d0887"
             ],
             [
              0.1111111111111111,
              "#46039f"
             ],
             [
              0.2222222222222222,
              "#7201a8"
             ],
             [
              0.3333333333333333,
              "#9c179e"
             ],
             [
              0.4444444444444444,
              "#bd3786"
             ],
             [
              0.5555555555555556,
              "#d8576b"
             ],
             [
              0.6666666666666666,
              "#ed7953"
             ],
             [
              0.7777777777777778,
              "#fb9f3a"
             ],
             [
              0.8888888888888888,
              "#fdca26"
             ],
             [
              1,
              "#f0f921"
             ]
            ],
            "type": "contour"
           }
          ],
          "contourcarpet": [
           {
            "colorbar": {
             "outlinewidth": 0,
             "ticks": ""
            },
            "type": "contourcarpet"
           }
          ],
          "heatmap": [
           {
            "colorbar": {
             "outlinewidth": 0,
             "ticks": ""
            },
            "colorscale": [
             [
              0,
              "#0d0887"
             ],
             [
              0.1111111111111111,
              "#46039f"
             ],
             [
              0.2222222222222222,
              "#7201a8"
             ],
             [
              0.3333333333333333,
              "#9c179e"
             ],
             [
              0.4444444444444444,
              "#bd3786"
             ],
             [
              0.5555555555555556,
              "#d8576b"
             ],
             [
              0.6666666666666666,
              "#ed7953"
             ],
             [
              0.7777777777777778,
              "#fb9f3a"
             ],
             [
              0.8888888888888888,
              "#fdca26"
             ],
             [
              1,
              "#f0f921"
             ]
            ],
            "type": "heatmap"
           }
          ],
          "heatmapgl": [
           {
            "colorbar": {
             "outlinewidth": 0,
             "ticks": ""
            },
            "colorscale": [
             [
              0,
              "#0d0887"
             ],
             [
              0.1111111111111111,
              "#46039f"
             ],
             [
              0.2222222222222222,
              "#7201a8"
             ],
             [
              0.3333333333333333,
              "#9c179e"
             ],
             [
              0.4444444444444444,
              "#bd3786"
             ],
             [
              0.5555555555555556,
              "#d8576b"
             ],
             [
              0.6666666666666666,
              "#ed7953"
             ],
             [
              0.7777777777777778,
              "#fb9f3a"
             ],
             [
              0.8888888888888888,
              "#fdca26"
             ],
             [
              1,
              "#f0f921"
             ]
            ],
            "type": "heatmapgl"
           }
          ],
          "histogram": [
           {
            "marker": {
             "pattern": {
              "fillmode": "overlay",
              "size": 10,
              "solidity": 0.2
             }
            },
            "type": "histogram"
           }
          ],
          "histogram2d": [
           {
            "colorbar": {
             "outlinewidth": 0,
             "ticks": ""
            },
            "colorscale": [
             [
              0,
              "#0d0887"
             ],
             [
              0.1111111111111111,
              "#46039f"
             ],
             [
              0.2222222222222222,
              "#7201a8"
             ],
             [
              0.3333333333333333,
              "#9c179e"
             ],
             [
              0.4444444444444444,
              "#bd3786"
             ],
             [
              0.5555555555555556,
              "#d8576b"
             ],
             [
              0.6666666666666666,
              "#ed7953"
             ],
             [
              0.7777777777777778,
              "#fb9f3a"
             ],
             [
              0.8888888888888888,
              "#fdca26"
             ],
             [
              1,
              "#f0f921"
             ]
            ],
            "type": "histogram2d"
           }
          ],
          "histogram2dcontour": [
           {
            "colorbar": {
             "outlinewidth": 0,
             "ticks": ""
            },
            "colorscale": [
             [
              0,
              "#0d0887"
             ],
             [
              0.1111111111111111,
              "#46039f"
             ],
             [
              0.2222222222222222,
              "#7201a8"
             ],
             [
              0.3333333333333333,
              "#9c179e"
             ],
             [
              0.4444444444444444,
              "#bd3786"
             ],
             [
              0.5555555555555556,
              "#d8576b"
             ],
             [
              0.6666666666666666,
              "#ed7953"
             ],
             [
              0.7777777777777778,
              "#fb9f3a"
             ],
             [
              0.8888888888888888,
              "#fdca26"
             ],
             [
              1,
              "#f0f921"
             ]
            ],
            "type": "histogram2dcontour"
           }
          ],
          "mesh3d": [
           {
            "colorbar": {
             "outlinewidth": 0,
             "ticks": ""
            },
            "type": "mesh3d"
           }
          ],
          "parcoords": [
           {
            "line": {
             "colorbar": {
              "outlinewidth": 0,
              "ticks": ""
             }
            },
            "type": "parcoords"
           }
          ],
          "pie": [
           {
            "automargin": true,
            "type": "pie"
           }
          ],
          "scatter": [
           {
            "fillpattern": {
             "fillmode": "overlay",
             "size": 10,
             "solidity": 0.2
            },
            "type": "scatter"
           }
          ],
          "scatter3d": [
           {
            "line": {
             "colorbar": {
              "outlinewidth": 0,
              "ticks": ""
             }
            },
            "marker": {
             "colorbar": {
              "outlinewidth": 0,
              "ticks": ""
             }
            },
            "type": "scatter3d"
           }
          ],
          "scattercarpet": [
           {
            "marker": {
             "colorbar": {
              "outlinewidth": 0,
              "ticks": ""
             }
            },
            "type": "scattercarpet"
           }
          ],
          "scattergeo": [
           {
            "marker": {
             "colorbar": {
              "outlinewidth": 0,
              "ticks": ""
             }
            },
            "type": "scattergeo"
           }
          ],
          "scattergl": [
           {
            "marker": {
             "colorbar": {
              "outlinewidth": 0,
              "ticks": ""
             }
            },
            "type": "scattergl"
           }
          ],
          "scattermapbox": [
           {
            "marker": {
             "colorbar": {
              "outlinewidth": 0,
              "ticks": ""
             }
            },
            "type": "scattermapbox"
           }
          ],
          "scatterpolar": [
           {
            "marker": {
             "colorbar": {
              "outlinewidth": 0,
              "ticks": ""
             }
            },
            "type": "scatterpolar"
           }
          ],
          "scatterpolargl": [
           {
            "marker": {
             "colorbar": {
              "outlinewidth": 0,
              "ticks": ""
             }
            },
            "type": "scatterpolargl"
           }
          ],
          "scatterternary": [
           {
            "marker": {
             "colorbar": {
              "outlinewidth": 0,
              "ticks": ""
             }
            },
            "type": "scatterternary"
           }
          ],
          "surface": [
           {
            "colorbar": {
             "outlinewidth": 0,
             "ticks": ""
            },
            "colorscale": [
             [
              0,
              "#0d0887"
             ],
             [
              0.1111111111111111,
              "#46039f"
             ],
             [
              0.2222222222222222,
              "#7201a8"
             ],
             [
              0.3333333333333333,
              "#9c179e"
             ],
             [
              0.4444444444444444,
              "#bd3786"
             ],
             [
              0.5555555555555556,
              "#d8576b"
             ],
             [
              0.6666666666666666,
              "#ed7953"
             ],
             [
              0.7777777777777778,
              "#fb9f3a"
             ],
             [
              0.8888888888888888,
              "#fdca26"
             ],
             [
              1,
              "#f0f921"
             ]
            ],
            "type": "surface"
           }
          ],
          "table": [
           {
            "cells": {
             "fill": {
              "color": "#EBF0F8"
             },
             "line": {
              "color": "white"
             }
            },
            "header": {
             "fill": {
              "color": "#C8D4E3"
             },
             "line": {
              "color": "white"
             }
            },
            "type": "table"
           }
          ]
         },
         "layout": {
          "annotationdefaults": {
           "arrowcolor": "#2a3f5f",
           "arrowhead": 0,
           "arrowwidth": 1
          },
          "autotypenumbers": "strict",
          "coloraxis": {
           "colorbar": {
            "outlinewidth": 0,
            "ticks": ""
           }
          },
          "colorscale": {
           "diverging": [
            [
             0,
             "#8e0152"
            ],
            [
             0.1,
             "#c51b7d"
            ],
            [
             0.2,
             "#de77ae"
            ],
            [
             0.3,
             "#f1b6da"
            ],
            [
             0.4,
             "#fde0ef"
            ],
            [
             0.5,
             "#f7f7f7"
            ],
            [
             0.6,
             "#e6f5d0"
            ],
            [
             0.7,
             "#b8e186"
            ],
            [
             0.8,
             "#7fbc41"
            ],
            [
             0.9,
             "#4d9221"
            ],
            [
             1,
             "#276419"
            ]
           ],
           "sequential": [
            [
             0,
             "#0d0887"
            ],
            [
             0.1111111111111111,
             "#46039f"
            ],
            [
             0.2222222222222222,
             "#7201a8"
            ],
            [
             0.3333333333333333,
             "#9c179e"
            ],
            [
             0.4444444444444444,
             "#bd3786"
            ],
            [
             0.5555555555555556,
             "#d8576b"
            ],
            [
             0.6666666666666666,
             "#ed7953"
            ],
            [
             0.7777777777777778,
             "#fb9f3a"
            ],
            [
             0.8888888888888888,
             "#fdca26"
            ],
            [
             1,
             "#f0f921"
            ]
           ],
           "sequentialminus": [
            [
             0,
             "#0d0887"
            ],
            [
             0.1111111111111111,
             "#46039f"
            ],
            [
             0.2222222222222222,
             "#7201a8"
            ],
            [
             0.3333333333333333,
             "#9c179e"
            ],
            [
             0.4444444444444444,
             "#bd3786"
            ],
            [
             0.5555555555555556,
             "#d8576b"
            ],
            [
             0.6666666666666666,
             "#ed7953"
            ],
            [
             0.7777777777777778,
             "#fb9f3a"
            ],
            [
             0.8888888888888888,
             "#fdca26"
            ],
            [
             1,
             "#f0f921"
            ]
           ]
          },
          "colorway": [
           "#636efa",
           "#EF553B",
           "#00cc96",
           "#ab63fa",
           "#FFA15A",
           "#19d3f3",
           "#FF6692",
           "#B6E880",
           "#FF97FF",
           "#FECB52"
          ],
          "font": {
           "color": "#2a3f5f"
          },
          "geo": {
           "bgcolor": "white",
           "lakecolor": "white",
           "landcolor": "#E5ECF6",
           "showlakes": true,
           "showland": true,
           "subunitcolor": "white"
          },
          "hoverlabel": {
           "align": "left"
          },
          "hovermode": "closest",
          "mapbox": {
           "style": "light"
          },
          "paper_bgcolor": "white",
          "plot_bgcolor": "#E5ECF6",
          "polar": {
           "angularaxis": {
            "gridcolor": "white",
            "linecolor": "white",
            "ticks": ""
           },
           "bgcolor": "#E5ECF6",
           "radialaxis": {
            "gridcolor": "white",
            "linecolor": "white",
            "ticks": ""
           }
          },
          "scene": {
           "xaxis": {
            "backgroundcolor": "#E5ECF6",
            "gridcolor": "white",
            "gridwidth": 2,
            "linecolor": "white",
            "showbackground": true,
            "ticks": "",
            "zerolinecolor": "white"
           },
           "yaxis": {
            "backgroundcolor": "#E5ECF6",
            "gridcolor": "white",
            "gridwidth": 2,
            "linecolor": "white",
            "showbackground": true,
            "ticks": "",
            "zerolinecolor": "white"
           },
           "zaxis": {
            "backgroundcolor": "#E5ECF6",
            "gridcolor": "white",
            "gridwidth": 2,
            "linecolor": "white",
            "showbackground": true,
            "ticks": "",
            "zerolinecolor": "white"
           }
          },
          "shapedefaults": {
           "line": {
            "color": "#2a3f5f"
           }
          },
          "ternary": {
           "aaxis": {
            "gridcolor": "white",
            "linecolor": "white",
            "ticks": ""
           },
           "baxis": {
            "gridcolor": "white",
            "linecolor": "white",
            "ticks": ""
           },
           "bgcolor": "#E5ECF6",
           "caxis": {
            "gridcolor": "white",
            "linecolor": "white",
            "ticks": ""
           }
          },
          "title": {
           "x": 0.05
          },
          "xaxis": {
           "automargin": true,
           "gridcolor": "white",
           "linecolor": "white",
           "ticks": "",
           "title": {
            "standoff": 15
           },
           "zerolinecolor": "white",
           "zerolinewidth": 2
          },
          "yaxis": {
           "automargin": true,
           "gridcolor": "white",
           "linecolor": "white",
           "ticks": "",
           "title": {
            "standoff": 15
           },
           "zerolinecolor": "white",
           "zerolinewidth": 2
          }
         }
        },
        "title": {
         "text": "Sample"
        },
        "xaxis": {
         "anchor": "y",
         "domain": [
          0,
          1
         ],
         "title": {
          "text": "T, K"
         }
        },
        "yaxis": {
         "anchor": "x",
         "domain": [
          0,
          1
         ],
         "title": {
          "text": "R, Ω"
         }
        }
       }
      }
     },
     "metadata": {},
     "output_type": "display_data"
    }
   ],
   "source": [
    "fig = px.line(df, x=df.columns[0], y=df.columns[1], title='Sample')\n",
    "fig.show()"
   ]
  },
  {
   "cell_type": "code",
   "execution_count": 10,
   "metadata": {},
   "outputs": [
    {
     "data": {
      "text/plain": [
       "<Axes: xlabel='T, K', ylabel='R, Ω'>"
      ]
     },
     "execution_count": 10,
     "metadata": {},
     "output_type": "execute_result"
    },
    {
     "data": {
      "image/png": "[encoded data removed]",
      "text/plain": [
       "<Figure size 640x480 with 1 Axes>"
      ]
     },
     "metadata": {},
     "output_type": "display_data"
    }
   ],
   "source": [
    "sns.lineplot(df, x=df.columns[0], y=df.columns[1], label='Sample')"
   ]
  }
 ],
 "metadata": {
  "kernelspec": {
   "display_name": "Python 3 (ipykernel)",
   "language": "python",
   "name": "python3"
  },
  "language_info": {
   "codemirror_mode": {
    "name": "ipython",
    "version": 3
   },
   "file_extension": ".py",
   "mimetype": "text/x-python",
   "name": "python",
   "nbconvert_exporter": "python",
   "pygments_lexer": "ipython3",
   "version": "3.11.6"
  }
 },
 "nbformat": 4,
 "nbformat_minor": 1
}
